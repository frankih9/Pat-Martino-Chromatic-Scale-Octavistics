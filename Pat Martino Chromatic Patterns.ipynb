{
 "cells": [
  {
   "cell_type": "markdown",
   "id": "10994158",
   "metadata": {},
   "source": [
    "# Pat Martino's Chromatic Pattern(s) #   \n",
    "In this YouTube video, Pat starts his demonstration of an ascending pattern on C.   \n",
    "https://youtu.be/h9Nny4db27c  \n",
    "\n",
    "The same pattern, starting from B, is used in a portion of HOTLINE #6 from this book.    \n",
    "https://www.halleonard.com/product/70031/jazz-pat-martino\n",
    "\n",
    "According to Chuck Jones, Pat has various other patterns both ascending and descending.  He demonstrates a descending pattern from Pat in this video.  \n",
    "https://youtu.be/itROVJ0G4rA\n",
    "\n",
    "## Ascending Patterns ## \n",
    "Python is useful for finding all the permutations or patterns constrained to an 'area of activity' on the fretboard.  The start and stop frets of the 'area of activity' are defined in the tuple **fretRange**.  "
   ]
  },
  {
   "cell_type": "code",
   "execution_count": 1,
   "id": "7a74d887",
   "metadata": {},
   "outputs": [],
   "source": [
    "fretRange = (2,5)"
   ]
  },
  {
   "cell_type": "markdown",
   "id": "932019b3",
   "metadata": {},
   "source": [
    "Arbitrary assignment of notes to integers as such:  \n",
    "0:'C', 1:'C#', 2:'D', 3:'D#', 4:'E', 5:'F',\n",
    "6:'F#', 7:'G', 8:'G#', 9:'A', 10:'A#', 11:'B'  \n",
    "\n",
    "Define your instrument's set of open strings.  For example, the strings of a regular 6 string guitar from the highest pitched string to the lowest are E, B, G, D, A, and E.  Then the string set of a regular guitar is the following: "
   ]
  },
  {
   "cell_type": "code",
   "execution_count": 2,
   "id": "d0752c9c",
   "metadata": {},
   "outputs": [],
   "source": [
    "stringSet = {1:[4, 'E', 329.63],\n",
    "             2:[11, 'B', 246.94],\n",
    "             3:[7, 'G', 196.00],\n",
    "             4:[2, 'D', 146.83],\n",
    "             5:[9, 'A', 110.00],\n",
    "             6:[4, 'E', 82.41]}"
   ]
  },
  {
   "cell_type": "markdown",
   "id": "4b6fb400",
   "metadata": {},
   "source": [
    "The keys of the dict are the string numbers.  Within the list are the integer representation of the open string note, the note itself, and the frequency."
   ]
  },
  {
   "cell_type": "markdown",
   "id": "e96fe156",
   "metadata": {},
   "source": [
    "The notes of each string in the fret range are found with **fretboardAreaNotesGen**."
   ]
  },
  {
   "cell_type": "code",
   "execution_count": 3,
   "id": "5f360938",
   "metadata": {},
   "outputs": [],
   "source": [
    "import numpy as np\n",
    "\n",
    "def fretboardAreaNotesGen(stringSet, fretRange):\n",
    "    '''\n",
    "    Parameters\n",
    "    ----------\n",
    "    stringSet : List\n",
    "        The list of open strings of the instrument.\n",
    "    fretRange : tuple\n",
    "        The two integers in the tuple defines the \n",
    "        start and stop frets in the 'area of activity'\n",
    "\n",
    "    Returns\n",
    "    -------\n",
    "    fretboardArea : list of lists\n",
    "        Each list within the list represents a string. \n",
    "        Withing each list, are the notes defined within \n",
    "        fretRange\n",
    "    '''\n",
    "    fretboardAreaNotes = {}\n",
    "    fretSpan = fretRange[1] - fretRange[0] + 1\n",
    "    fretStart = fretRange[0]\n",
    "    for string in stringSet.keys():\n",
    "        openStringNote = stringSet[string][0]\n",
    "        fretboardAreaNotes[string]=list((np.arange(fretSpan)+fretStart+openStringNote)%12)\n",
    "    return fretboardAreaNotes    \n",
    "        \n",
    "fretboardAreaNotes = fretboardAreaNotesGen(stringSet, fretRange)"
   ]
  },
  {
   "cell_type": "code",
   "execution_count": 4,
   "id": "73e3008b",
   "metadata": {},
   "outputs": [
    {
     "data": {
      "text/plain": [
       "{1: [6, 7, 8, 9],\n",
       " 2: [1, 2, 3, 4],\n",
       " 3: [9, 10, 11, 0],\n",
       " 4: [4, 5, 6, 7],\n",
       " 5: [11, 0, 1, 2],\n",
       " 6: [6, 7, 8, 9]}"
      ]
     },
     "execution_count": 4,
     "metadata": {},
     "output_type": "execute_result"
    }
   ],
   "source": [
    "fretboardAreaNotes"
   ]
  },
  {
   "cell_type": "markdown",
   "id": "c219806e",
   "metadata": {},
   "source": [
    "With a given starting note, the possible string fret combinations for each chromatic note is found using **stringFretComboGen**.  "
   ]
  },
  {
   "cell_type": "code",
   "execution_count": 5,
   "id": "05de4a13",
   "metadata": {},
   "outputs": [],
   "source": [
    "direction = 'ascend'\n",
    "start = 11"
   ]
  },
  {
   "cell_type": "code",
   "execution_count": 6,
   "id": "61b4e427",
   "metadata": {},
   "outputs": [],
   "source": [
    "def stringFretComboGen(startNote, fretRange, fretboardAreaNotes, direction='ascend'):\n",
    "    '''\n",
    "    Parameters\n",
    "    ----------\n",
    "    startNote : int\n",
    "        The integer representation of the starting note.\n",
    "    fretboardAreaNotes : list of list of integers\n",
    "        The lists represent the strings of the defined fretboard.\n",
    "        The integers within each list are the integer\n",
    "        representation of the notes on that string for each\n",
    "        fret in the defined range of frets\n",
    "    direction: 'ascend' or whatever\n",
    "\n",
    "    Returns\n",
    "    -------\n",
    "    stringFretCombo : list of lists of tuples\n",
    "        The lists represent the starting note and subsequent \n",
    "        chromatic notes. There are 13 lists since the ocatave is \n",
    "        included.  Within each list, are tuples of possible \n",
    "        (string, fret) combination in their integer representation.\n",
    "\n",
    "    '''\n",
    "    if direction == 'ascend':\n",
    "        patDir = 1\n",
    "    else:\n",
    "        patDir = -1\n",
    "        \n",
    "    stringFretCombo=[]\n",
    "    currentNote = startNote\n",
    "    for _ in range(13) :\n",
    "        noteLst = []\n",
    "        for string in fretboardAreaNotes.keys():\n",
    "            notes = fretboardAreaNotes[string]\n",
    "            if currentNote in notes:\n",
    "                fret = notes.index(currentNote) + fretRange[0]\n",
    "                noteLst.append((string, fret))\n",
    "        stringFretCombo.append(noteLst)        \n",
    "        currentNote = (currentNote + patDir) % 12\n",
    "    return stringFretCombo\n",
    "\n",
    "startNote = start\n",
    "stringFretCombo = stringFretComboGen(startNote, fretRange, fretboardAreaNotes, direction) "
   ]
  },
  {
   "cell_type": "code",
   "execution_count": 7,
   "id": "2aaa600b",
   "metadata": {},
   "outputs": [
    {
     "data": {
      "text/plain": [
       "[[(3, 4), (5, 2)],\n",
       " [(3, 5), (5, 3)],\n",
       " [(2, 2), (5, 4)],\n",
       " [(2, 3), (5, 5)],\n",
       " [(2, 4)],\n",
       " [(2, 5), (4, 2)],\n",
       " [(4, 3)],\n",
       " [(1, 2), (4, 4), (6, 2)],\n",
       " [(1, 3), (4, 5), (6, 3)],\n",
       " [(1, 4), (6, 4)],\n",
       " [(1, 5), (3, 2), (6, 5)],\n",
       " [(3, 3)],\n",
       " [(3, 4), (5, 2)]]"
      ]
     },
     "execution_count": 7,
     "metadata": {},
     "output_type": "execute_result"
    }
   ],
   "source": [
    "stringFretCombo"
   ]
  },
  {
   "cell_type": "markdown",
   "id": "83ed3e3e",
   "metadata": {},
   "source": [
    "Using the results of **stringFretComboGen**, the number of different permutations or patterns can be computed with **perCalc**."
   ]
  },
  {
   "cell_type": "code",
   "execution_count": 8,
   "id": "4110b221",
   "metadata": {},
   "outputs": [
    {
     "name": "stdout",
     "output_type": "stream",
     "text": [
      "There are 3456 different patterns\n"
     ]
    }
   ],
   "source": [
    "def permCalc(stringFretCombo):\n",
    "    combo=1\n",
    "    for notes in stringFretCombo:\n",
    "        combo = combo * len(notes)\n",
    "    print('There are',combo, 'different patterns')\n",
    "    \n",
    "permCalc(stringFretCombo)"
   ]
  },
  {
   "cell_type": "markdown",
   "id": "b6f1aa57",
   "metadata": {},
   "source": [
    "Function **patternsGen** is used to explicitly list out all 3456 patterns "
   ]
  },
  {
   "cell_type": "code",
   "execution_count": 12,
   "id": "2de2fd76",
   "metadata": {},
   "outputs": [],
   "source": [
    "def patternsGen(stringFretCombo):\n",
    "    '''\n",
    "    All possible patterns of the chromatic scale from the\n",
    "    defined starting note, starting fret, and fret span are\n",
    "    collected into lists of tuples\n",
    "\n",
    "    Parameters\n",
    "    ----------\n",
    "    stringFretCombo : list of lists of tuples\n",
    "        The lists represent the starting note and subsequent \n",
    "        chromatic notes. There are 13 lists since the ocatave is \n",
    "        included.  Within each list, are tuples of possible \n",
    "        (string, fret) combination in their integer representation.\n",
    "\n",
    "    Returns\n",
    "    -------\n",
    "    patterns : list of lists of tuples\n",
    "        Each list represents a pattern of the chromatic scale\n",
    "        in the previously defined fretboard area.\n",
    "        The tuples in each list are the (string, fret) of \n",
    "        the chromatic scale.\n",
    "\n",
    "    '''\n",
    "    patterns=[]\n",
    "    chromaLst = []\n",
    "     \n",
    "    def recur(noteIndex):\n",
    "        '''\n",
    "        Parameters\n",
    "        ----------\n",
    "        noteIndex : int\n",
    "            The integer representing the starting note.\n",
    "        \n",
    "        Returns\n",
    "        -------\n",
    "        None.\n",
    "    \n",
    "        '''\n",
    "        if noteIndex == 13:\n",
    "            # Once thenoteIndex is 13, the octave cycle\n",
    "            # is complete with the octave note included  \n",
    "            patterns.append(chromaLst.copy())\n",
    "            return\n",
    "        else:\n",
    "            for note in stringFretCombo[noteIndex]:\n",
    "                chromaLst.append(note)\n",
    "                recur(noteIndex + 1)\n",
    "                chromaLst.pop()                \n",
    "    recur(0)\n",
    "    return patterns\n",
    "\n",
    "patterns = patternsGen(stringFretCombo)"
   ]
  },
  {
   "cell_type": "markdown",
   "id": "d479d654",
   "metadata": {},
   "source": [
    "Just to verify the math, the length of patterns is checked."
   ]
  },
  {
   "cell_type": "code",
   "execution_count": 13,
   "id": "12a1ea6d",
   "metadata": {},
   "outputs": [
    {
     "data": {
      "text/plain": [
       "3456"
      ]
     },
     "execution_count": 13,
     "metadata": {},
     "output_type": "execute_result"
    }
   ],
   "source": [
    "len(patterns)"
   ]
  },
  {
   "cell_type": "markdown",
   "id": "1a6cf53b",
   "metadata": {},
   "source": [
    "The pattern as demonstrated by Pat, but starting on B, is defined in the cell below. "
   ]
  },
  {
   "cell_type": "code",
   "execution_count": 21,
   "id": "04a7efbf",
   "metadata": {},
   "outputs": [],
   "source": [
    "martino = [(5, 2), (3, 5), (5, 4), (2, 3), (2, 4), (4, 2), (4, 3), (1, 2), (1, 3), (6, 4), (6, 5), (3, 3), (3, 4)] "
   ]
  },
  {
   "cell_type": "markdown",
   "id": "62a40868",
   "metadata": {},
   "source": [
    "**findPatMartinoPattern** will return the index pointing to Pat's pattern within **patterns**.   "
   ]
  },
  {
   "cell_type": "code",
   "execution_count": 22,
   "id": "9f5a48e6",
   "metadata": {},
   "outputs": [
    {
     "name": "stdout",
     "output_type": "stream",
     "text": [
      "Pat Martino's pattern is at index 2278\n"
     ]
    }
   ],
   "source": [
    "def findPatMartinoPattern(patterns):\n",
    "    '''\n",
    "    Find the Pat Martino pattern (PMP) in all possible \n",
    "    patterns generated based on the starting note, \n",
    "    starting fret, and fret span\n",
    "\n",
    "    Parameters\n",
    "    ----------\n",
    "    patterns : patterns\n",
    "        All possible patterns found by 'patternsGen'\n",
    "\n",
    "    Returns\n",
    "    -------\n",
    "    The index pointing to PMP in patterns\n",
    "\n",
    "    '''\n",
    "   \n",
    "    PMPI = 0\n",
    "    for patI, testPat in enumerate(patterns):\n",
    "        test = 1\n",
    "        for I, stringFretI in enumerate(testPat):\n",
    "            if martino[I] != stringFretI:\n",
    "                test = 0\n",
    "                break\n",
    "        if test == 1:\n",
    "            print(\"Pat Martino's pattern is at index\",patI)\n",
    "            PMPI = patI\n",
    "            break\n",
    "    return PMPI    \n",
    "\n",
    "pat_index = findPatMartinoPattern(patterns)"
   ]
  },
  {
   "cell_type": "markdown",
   "id": "1a5ce1d6",
   "metadata": {},
   "source": [
    "To make a fretboard plot of a specific pattern, the **fretboardPlot** function is used."
   ]
  },
  {
   "cell_type": "code",
   "execution_count": 23,
   "id": "d7f6e4ce",
   "metadata": {},
   "outputs": [
    {
     "data": {
      "text/plain": [
       "[(5, 2),\n",
       " (3, 5),\n",
       " (5, 4),\n",
       " (2, 3),\n",
       " (2, 4),\n",
       " (4, 2),\n",
       " (4, 3),\n",
       " (1, 2),\n",
       " (1, 3),\n",
       " (6, 4),\n",
       " (6, 5),\n",
       " (3, 3),\n",
       " (3, 4)]"
      ]
     },
     "execution_count": 23,
     "metadata": {},
     "output_type": "execute_result"
    }
   ],
   "source": [
    "pattern = patterns[pat_index]\n",
    "#pattern = patterns[2000]\n",
    "pattern"
   ]
  },
  {
   "cell_type": "code",
   "execution_count": 24,
   "id": "36d5f324",
   "metadata": {},
   "outputs": [
    {
     "data": {
      "image/png": "[encoded data removed]",
      "text/plain": [
       "<Figure size 640x480 with 1 Axes>"
      ]
     },
     "metadata": {},
     "output_type": "display_data"
    }
   ],
   "source": [
    "import matplotlib.pyplot as plt\n",
    "\n",
    "def fretboardPlot(pattern, stringSet, fretRange):\n",
    "    plt.clf()\n",
    "  \n",
    "    # Y-Axis Info\n",
    "    numStrings = len(stringSet)\n",
    "    yAxNum = np.arange(-1*numStrings, 0, 1)\n",
    "    yAxNote = []\n",
    "    for string in stringSet.keys():\n",
    "        yAxNote.append(stringSet[string][1])\n",
    "    yAxNote.reverse() \n",
    "    \n",
    "    # X-Axis Info\n",
    "    if fretRange[0] - 3 < 0:\n",
    "        xAxStart = 0\n",
    "    else:\n",
    "        xAxStart = fretRange[0] - 2\n",
    "    xAxStop = fretRange[1] + 3\n",
    "    xAx = np.arange(xAxStart, xAxStop)\n",
    "    \n",
    "    for i, stringFret in enumerate(pattern):\n",
    "        # string\n",
    "        y = stringFret[0]\n",
    "        # fret\n",
    "        x = stringFret[1]\n",
    "        # consider the case that start and end are the same note\n",
    "        if i == len(pattern)-1 and stringFret == pattern[0]:\n",
    "            plt.text(x + 0.1, -1*y, '1, '+str(i+1))           \n",
    "        else:\n",
    "            plt.text(x + 0.1, -1*y, i+1)\n",
    "        plt.scatter(x, -1*y)\n",
    "    \n",
    "    plt.xticks(xAx)    \n",
    "    plt.yticks(yAxNum, yAxNote)\n",
    "    plt.grid()\n",
    "    plt.show()\n",
    "\n",
    "fretboardPlot(pattern, stringSet, fretRange)"
   ]
  },
  {
   "cell_type": "markdown",
   "id": "b31d8b8e",
   "metadata": {},
   "source": [
    "To hear what the pattern sounds like, function **playChromaticPattern** is used.  \n",
    "After all 13 notes are played, the pattern is repeated but shifted up or down one fret.  The number of times that the pattern is shifted up or down is defined by **cycles**."
   ]
  },
  {
   "cell_type": "code",
   "execution_count": 25,
   "id": "ef6310be",
   "metadata": {},
   "outputs": [],
   "source": [
    "fs = 44100\n",
    "noteDuration = .2\n",
    "cycles = 7"
   ]
  },
  {
   "cell_type": "code",
   "execution_count": 26,
   "id": "92b36248",
   "metadata": {},
   "outputs": [],
   "source": [
    "import sounddevice as sd\n",
    "\n",
    "def playChromaticPattern(pattern, stringSet, fs, noteDuration, cycles, direction='ascend'):\n",
    "    timeArray = np.arange(0, noteDuration, 1/fs)\n",
    "    noteLength = len(timeArray)\n",
    "    cycleLength = noteLength*len(pattern)\n",
    "    buffer = np.zeros(cycleLength*cycles)\n",
    "    windowArray = np.hanning(len(timeArray))   \n",
    "    for cycle in range(cycles):\n",
    "        for I, stringFret in enumerate(pattern): \n",
    "            string = stringFret[0]\n",
    "            if direction == 'ascend':\n",
    "                fret = stringFret[1] + cycle\n",
    "            else:\n",
    "                fret = stringFret[1] - cycle\n",
    "            \n",
    "            freq = stringSet[string][2]*((2**(1/12))**fret) \n",
    "            note = (2**15-1)*np.sin(2*np.pi*freq*timeArray)\n",
    "            noteWindowed = note*windowArray\n",
    "            buffer[I*noteLength + cycleLength*cycle : \n",
    "                    (I+1)*noteLength + cycleLength*cycle] = noteWindowed      \n",
    "    buffer = buffer.astype(np.int16)\n",
    "    sd.play(buffer, fs)\n",
    "    #sd.stop()\n",
    "    \n",
    "playChromaticPattern(pattern, stringSet, fs, noteDuration, cycles, direction)    "
   ]
  },
  {
   "cell_type": "markdown",
   "id": "be308c5b",
   "metadata": {},
   "source": [
    "## Descending Patterns\n",
    "\n",
    "According to Chuck, the descending pattern he learned from Pat is in the fret range of 9 to 14.  "
   ]
  },
  {
   "cell_type": "code",
   "execution_count": 27,
   "id": "9993377d",
   "metadata": {},
   "outputs": [
    {
     "data": {
      "text/plain": [
       "{1: [1, 2, 3, 4, 5, 6],\n",
       " 2: [8, 9, 10, 11, 0, 1],\n",
       " 3: [4, 5, 6, 7, 8, 9],\n",
       " 4: [11, 0, 1, 2, 3, 4],\n",
       " 5: [6, 7, 8, 9, 10, 11],\n",
       " 6: [1, 2, 3, 4, 5, 6]}"
      ]
     },
     "execution_count": 27,
     "metadata": {},
     "output_type": "execute_result"
    }
   ],
   "source": [
    "fretRange = (9,14)\n",
    "fretboardAreaNotes = fretboardAreaNotesGen(stringSet, fretRange)\n",
    "fretboardAreaNotes"
   ]
  },
  {
   "cell_type": "markdown",
   "id": "8f4ded2e",
   "metadata": {},
   "source": [
    "The starting note is E, or 4 in terms of **noteKey**."
   ]
  },
  {
   "cell_type": "code",
   "execution_count": 28,
   "id": "a8eb00d0",
   "metadata": {},
   "outputs": [
    {
     "data": {
      "text/plain": [
       "[[(1, 12), (3, 9), (4, 14), (6, 12)],\n",
       " [(1, 11), (4, 13), (6, 11)],\n",
       " [(1, 10), (4, 12), (6, 10)],\n",
       " [(1, 9), (2, 14), (4, 11), (6, 9)],\n",
       " [(2, 13), (4, 10)],\n",
       " [(2, 12), (4, 9), (5, 14)],\n",
       " [(2, 11), (5, 13)],\n",
       " [(2, 10), (3, 14), (5, 12)],\n",
       " [(2, 9), (3, 13), (5, 11)],\n",
       " [(3, 12), (5, 10)],\n",
       " [(1, 14), (3, 11), (5, 9), (6, 14)],\n",
       " [(1, 13), (3, 10), (6, 13)],\n",
       " [(1, 12), (3, 9), (4, 14), (6, 12)]]"
      ]
     },
     "execution_count": 28,
     "metadata": {},
     "output_type": "execute_result"
    }
   ],
   "source": [
    "startNote = 4\n",
    "stringFretCombo = stringFretComboGen(startNote, fretRange, fretboardAreaNotes, 'descend') \n",
    "stringFretCombo"
   ]
  },
  {
   "cell_type": "code",
   "execution_count": 32,
   "id": "c244f397",
   "metadata": {},
   "outputs": [],
   "source": [
    "descendingPatterns = patternsGen(stringFretCombo)"
   ]
  },
  {
   "cell_type": "markdown",
   "id": "a6c67636",
   "metadata": {},
   "source": [
    "As demonstrated by Chuck, the pattern is the following:"
   ]
  },
  {
   "cell_type": "code",
   "execution_count": 33,
   "id": "cbc8c5da",
   "metadata": {},
   "outputs": [],
   "source": [
    "martino = [(1,12), (6,11), (4,12), (1,9), (2,13), (4,9), (2,11), (5,12), (5,11), (3,12), (1,14), (3,10), (3,9)]"
   ]
  },
  {
   "cell_type": "code",
   "execution_count": 34,
   "id": "c61fa910",
   "metadata": {},
   "outputs": [
    {
     "name": "stdout",
     "output_type": "stream",
     "text": [
      "Pat Martino's pattern is at index 292805\n"
     ]
    },
    {
     "data": {
      "text/plain": [
       "292805"
      ]
     },
     "execution_count": 34,
     "metadata": {},
     "output_type": "execute_result"
    }
   ],
   "source": [
    "pat_index = findPatMartinoPattern(descendingPatterns)\n",
    "pat_index"
   ]
  },
  {
   "cell_type": "code",
   "execution_count": 35,
   "id": "006717f2",
   "metadata": {},
   "outputs": [
    {
     "data": {
      "image/png": "[encoded data removed]",
      "text/plain": [
       "<Figure size 640x480 with 1 Axes>"
      ]
     },
     "metadata": {},
     "output_type": "display_data"
    }
   ],
   "source": [
    "pattern = descendingPatterns[pat_index]\n",
    "fretboardPlot(pattern, stringSet, fretRange)"
   ]
  },
  {
   "cell_type": "code",
   "execution_count": 36,
   "id": "70928654",
   "metadata": {},
   "outputs": [],
   "source": [
    "playChromaticPattern(pattern, stringSet, fs, noteDuration, cycles, 'descending')  "
   ]
  },
  {
   "cell_type": "code",
   "execution_count": null,
   "id": "6664d11f",
   "metadata": {},
   "outputs": [],
   "source": []
  }
 ],
 "metadata": {
  "kernelspec": {
   "display_name": "Python 3 (ipykernel)",
   "language": "python",
   "name": "python3"
  },
  "language_info": {
   "codemirror_mode": {
    "name": "ipython",
    "version": 3
   },
   "file_extension": ".py",
   "mimetype": "text/x-python",
   "name": "python",
   "nbconvert_exporter": "python",
   "pygments_lexer": "ipython3",
   "version": "3.9.17"
  }
 },
 "nbformat": 4,
 "nbformat_minor": 5
}
